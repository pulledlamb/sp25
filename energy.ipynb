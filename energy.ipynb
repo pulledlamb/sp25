{
 "cells": [
  {
   "cell_type": "code",
   "execution_count": null,
   "metadata": {},
   "outputs": [
    {
     "ename": "",
     "evalue": "",
     "output_type": "error",
     "traceback": [
      "\u001b[1;31mRunning cells with '.venv (Python 3.13.3)' requires the ipykernel package.\n",
      "\u001b[1;31mInstall 'ipykernel' into the Python environment. \n",
      "\u001b[1;31mCommand: '/Users/lsd/SLIU/randomness/leetcode/.venv/bin/python -m pip install ipykernel -U --force-reinstall'"
     ]
    }
   ],
   "source": [
    "from entsoe import EntsoePandasClient\n",
    "import pandas as pd\n",
    "import matplotlib.pyplot as plt\n",
    "from datetime import datetime\n",
    "\n",
    "%matplotlib inline\n",
    "\n",
    "client = EntsoePandasClient(api_key=\"6910a80c-6c28-4837-9131-e8caa1bf9de2\")\n",
    "\n",
    "start = pd.Timestamp(\"2024-06-01\", tz=\"UTC\")\n",
    "end = pd.Timestamp(\"2024-06-04\", tz=\"UTC\")\n",
    "\n",
    "country_code = 'DE'  # Germany\n",
    "\n",
    "# Forecasts for wind and solar (onshore + offshore + solar)\n",
    "forecast = client.query_wind_and_solar_forecast(country_code, start=start, end=end)\n",
    "forecast = forecast[['Wind Onshore', 'Wind Offshore']]  # Keep only wind components\n",
    "forecast['Total Forecast'] = forecast.sum(axis=1)\n",
    "forecast.head()\n",
    "\n",
    "# Actual generation data (all types)\n",
    "actual = client.query_generation(country_code, start=start, end=end)\n",
    "\n",
    "# Keep only wind types\n",
    "actual = actual[['Wind Onshore', 'Wind Offshore']]\n",
    "actual['Total Actual'] = actual.sum(axis=1)\n",
    "actual.head()\n",
    "\n",
    "df = pd.concat([\n",
    "    forecast['Total Forecast'].rename('Forecast'),\n",
    "    actual['Total Actual'].rename('Actual')\n",
    "], axis=1)\n",
    "\n",
    "df.dropna(inplace=True)  # In case of mismatches\n",
    "df['Forecast Error (%)'] = 100 * (df['Forecast'] - df['Actual']) / df['Actual']\n",
    "df.head()\n",
    "\n",
    "\n",
    "df[['Forecast', 'Actual']].plot(figsize=(10,5), title=\"Wind Forecast vs Actual (MW)\")\n",
    "plt.ylabel(\"MW\")\n",
    "plt.show()\n",
    "\n",
    "df['Forecast Error (%)'].plot(figsize=(10,4), title=\"Forecast Error (%)\")\n",
    "plt.axhline(0, color='black', linestyle='--')\n",
    "plt.ylabel(\"%\")\n",
    "plt.show()\n",
    "\n",
    "# Querying day-ahead market prices\n",
    "da_prices = client.query_day_ahead_prices(country_code, start=start,end=end)\n",
    "print(da_prices.head())"
   ]
  }
 ],
 "metadata": {
  "kernelspec": {
   "display_name": ".venv",
   "language": "python",
   "name": "python3"
  },
  "language_info": {
   "codemirror_mode": {
    "name": "ipython",
    "version": 3
   },
   "file_extension": ".py",
   "mimetype": "text/x-python",
   "name": "python",
   "nbconvert_exporter": "python",
   "pygments_lexer": "ipython3",
   "version": "3.13.3"
  }
 },
 "nbformat": 4,
 "nbformat_minor": 2
}
